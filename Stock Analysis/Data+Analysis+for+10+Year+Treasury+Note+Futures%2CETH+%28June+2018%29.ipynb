{
 "cells": [
  {
   "cell_type": "markdown",
   "metadata": {},
   "source": [
    "# Data Analysis for 10 Year Treasury Note Futures,ETH (June 2018)"
   ]
  },
  {
   "cell_type": "code",
   "execution_count": 1,
   "metadata": {
    "collapsed": true
   },
   "outputs": [],
   "source": [
    "import numpy as np\n",
    "import pandas as pd\n",
    "import seaborn as sb\n",
    "sb.set()\n",
    "import matplotlib.pyplot as plt\n",
    "%matplotlib inline"
   ]
  },
  {
   "cell_type": "markdown",
   "metadata": {},
   "source": [
    "### 1. Data Import"
   ]
  },
  {
   "cell_type": "code",
   "execution_count": 2,
   "metadata": {
    "collapsed": false
   },
   "outputs": [
    {
     "data": {
      "text/html": [
       "<div>\n",
       "<table border=\"1\" class=\"dataframe\">\n",
       "  <thead>\n",
       "    <tr style=\"text-align: right;\">\n",
       "      <th></th>\n",
       "      <th>Date</th>\n",
       "      <th>Open</th>\n",
       "      <th>High</th>\n",
       "      <th>Low</th>\n",
       "      <th>Close</th>\n",
       "      <th>Volume</th>\n",
       "      <th>OpenInt</th>\n",
       "    </tr>\n",
       "  </thead>\n",
       "  <tbody>\n",
       "    <tr>\n",
       "      <th>0</th>\n",
       "      <td>5/3/1982</td>\n",
       "      <td>63.81</td>\n",
       "      <td>63.88</td>\n",
       "      <td>63.50</td>\n",
       "      <td>63.50</td>\n",
       "      <td>0</td>\n",
       "      <td>0</td>\n",
       "    </tr>\n",
       "    <tr>\n",
       "      <th>1</th>\n",
       "      <td>5/4/1982</td>\n",
       "      <td>63.44</td>\n",
       "      <td>64.12</td>\n",
       "      <td>63.38</td>\n",
       "      <td>64.00</td>\n",
       "      <td>0</td>\n",
       "      <td>0</td>\n",
       "    </tr>\n",
       "    <tr>\n",
       "      <th>2</th>\n",
       "      <td>5/5/1982</td>\n",
       "      <td>64.19</td>\n",
       "      <td>64.38</td>\n",
       "      <td>63.94</td>\n",
       "      <td>64.12</td>\n",
       "      <td>0</td>\n",
       "      <td>0</td>\n",
       "    </tr>\n",
       "    <tr>\n",
       "      <th>3</th>\n",
       "      <td>5/6/1982</td>\n",
       "      <td>64.62</td>\n",
       "      <td>65.06</td>\n",
       "      <td>64.56</td>\n",
       "      <td>65.06</td>\n",
       "      <td>0</td>\n",
       "      <td>0</td>\n",
       "    </tr>\n",
       "    <tr>\n",
       "      <th>4</th>\n",
       "      <td>5/7/1982</td>\n",
       "      <td>65.31</td>\n",
       "      <td>65.38</td>\n",
       "      <td>64.94</td>\n",
       "      <td>65.31</td>\n",
       "      <td>0</td>\n",
       "      <td>0</td>\n",
       "    </tr>\n",
       "  </tbody>\n",
       "</table>\n",
       "</div>"
      ],
      "text/plain": [
       "       Date   Open   High    Low  Close Volume OpenInt\n",
       "0  5/3/1982  63.81  63.88  63.50  63.50      0       0\n",
       "1  5/4/1982  63.44  64.12  63.38  64.00      0       0\n",
       "2  5/5/1982  64.19  64.38  63.94  64.12      0       0\n",
       "3  5/6/1982  64.62  65.06  64.56  65.06      0       0\n",
       "4  5/7/1982  65.31  65.38  64.94  65.31      0       0"
      ]
     },
     "execution_count": 2,
     "metadata": {},
     "output_type": "execute_result"
    }
   ],
   "source": [
    "# Read the input file and save it as a dataframe\n",
    "df = pd.read_csv('zn.csv').fillna('0')\n",
    "df.head()"
   ]
  },
  {
   "cell_type": "markdown",
   "metadata": {},
   "source": [
    "### 2. Data Cleansing"
   ]
  },
  {
   "cell_type": "code",
   "execution_count": 3,
   "metadata": {
    "collapsed": false
   },
   "outputs": [
    {
     "data": {
      "text/html": [
       "<div>\n",
       "<table border=\"1\" class=\"dataframe\">\n",
       "  <thead>\n",
       "    <tr style=\"text-align: right;\">\n",
       "      <th></th>\n",
       "      <th>Date</th>\n",
       "      <th>Open</th>\n",
       "      <th>High</th>\n",
       "      <th>Low</th>\n",
       "      <th>Close</th>\n",
       "      <th>Volume</th>\n",
       "    </tr>\n",
       "  </thead>\n",
       "  <tbody>\n",
       "    <tr>\n",
       "      <th>0</th>\n",
       "      <td>5/3/1982</td>\n",
       "      <td>63.81</td>\n",
       "      <td>63.88</td>\n",
       "      <td>63.50</td>\n",
       "      <td>63.50</td>\n",
       "      <td>0</td>\n",
       "    </tr>\n",
       "    <tr>\n",
       "      <th>1</th>\n",
       "      <td>5/4/1982</td>\n",
       "      <td>63.44</td>\n",
       "      <td>64.12</td>\n",
       "      <td>63.38</td>\n",
       "      <td>64.00</td>\n",
       "      <td>0</td>\n",
       "    </tr>\n",
       "    <tr>\n",
       "      <th>2</th>\n",
       "      <td>5/5/1982</td>\n",
       "      <td>64.19</td>\n",
       "      <td>64.38</td>\n",
       "      <td>63.94</td>\n",
       "      <td>64.12</td>\n",
       "      <td>0</td>\n",
       "    </tr>\n",
       "    <tr>\n",
       "      <th>3</th>\n",
       "      <td>5/6/1982</td>\n",
       "      <td>64.62</td>\n",
       "      <td>65.06</td>\n",
       "      <td>64.56</td>\n",
       "      <td>65.06</td>\n",
       "      <td>0</td>\n",
       "    </tr>\n",
       "    <tr>\n",
       "      <th>4</th>\n",
       "      <td>5/7/1982</td>\n",
       "      <td>65.31</td>\n",
       "      <td>65.38</td>\n",
       "      <td>64.94</td>\n",
       "      <td>65.31</td>\n",
       "      <td>0</td>\n",
       "    </tr>\n",
       "  </tbody>\n",
       "</table>\n",
       "</div>"
      ],
      "text/plain": [
       "       Date   Open   High    Low  Close Volume\n",
       "0  5/3/1982  63.81  63.88  63.50  63.50      0\n",
       "1  5/4/1982  63.44  64.12  63.38  64.00      0\n",
       "2  5/5/1982  64.19  64.38  63.94  64.12      0\n",
       "3  5/6/1982  64.62  65.06  64.56  65.06      0\n",
       "4  5/7/1982  65.31  65.38  64.94  65.31      0"
      ]
     },
     "execution_count": 3,
     "metadata": {},
     "output_type": "execute_result"
    }
   ],
   "source": [
    "# Remove unwanted columns\n",
    "df = df.drop('OpenInt',axis=1)\n",
    "df.head()"
   ]
  },
  {
   "cell_type": "code",
   "execution_count": 4,
   "metadata": {
    "collapsed": false
   },
   "outputs": [
    {
     "data": {
      "text/html": [
       "<div>\n",
       "<table border=\"1\" class=\"dataframe\">\n",
       "  <thead>\n",
       "    <tr style=\"text-align: right;\">\n",
       "      <th></th>\n",
       "      <th>Date</th>\n",
       "      <th>Open</th>\n",
       "      <th>High</th>\n",
       "      <th>Low</th>\n",
       "      <th>Close</th>\n",
       "      <th>Volume</th>\n",
       "      <th>Profit</th>\n",
       "    </tr>\n",
       "  </thead>\n",
       "  <tbody>\n",
       "    <tr>\n",
       "      <th>0</th>\n",
       "      <td>5/3/1982</td>\n",
       "      <td>63.81</td>\n",
       "      <td>63.88</td>\n",
       "      <td>63.50</td>\n",
       "      <td>63.50</td>\n",
       "      <td>0</td>\n",
       "      <td>-0.31</td>\n",
       "    </tr>\n",
       "    <tr>\n",
       "      <th>1</th>\n",
       "      <td>5/4/1982</td>\n",
       "      <td>63.44</td>\n",
       "      <td>64.12</td>\n",
       "      <td>63.38</td>\n",
       "      <td>64.00</td>\n",
       "      <td>0</td>\n",
       "      <td>0.56</td>\n",
       "    </tr>\n",
       "    <tr>\n",
       "      <th>2</th>\n",
       "      <td>5/5/1982</td>\n",
       "      <td>64.19</td>\n",
       "      <td>64.38</td>\n",
       "      <td>63.94</td>\n",
       "      <td>64.12</td>\n",
       "      <td>0</td>\n",
       "      <td>-0.07</td>\n",
       "    </tr>\n",
       "    <tr>\n",
       "      <th>3</th>\n",
       "      <td>5/6/1982</td>\n",
       "      <td>64.62</td>\n",
       "      <td>65.06</td>\n",
       "      <td>64.56</td>\n",
       "      <td>65.06</td>\n",
       "      <td>0</td>\n",
       "      <td>0.44</td>\n",
       "    </tr>\n",
       "    <tr>\n",
       "      <th>4</th>\n",
       "      <td>5/7/1982</td>\n",
       "      <td>65.31</td>\n",
       "      <td>65.38</td>\n",
       "      <td>64.94</td>\n",
       "      <td>65.31</td>\n",
       "      <td>0</td>\n",
       "      <td>0.00</td>\n",
       "    </tr>\n",
       "  </tbody>\n",
       "</table>\n",
       "</div>"
      ],
      "text/plain": [
       "       Date   Open   High    Low  Close Volume  Profit\n",
       "0  5/3/1982  63.81  63.88  63.50  63.50      0   -0.31\n",
       "1  5/4/1982  63.44  64.12  63.38  64.00      0    0.56\n",
       "2  5/5/1982  64.19  64.38  63.94  64.12      0   -0.07\n",
       "3  5/6/1982  64.62  65.06  64.56  65.06      0    0.44\n",
       "4  5/7/1982  65.31  65.38  64.94  65.31      0    0.00"
      ]
     },
     "execution_count": 4,
     "metadata": {},
     "output_type": "execute_result"
    }
   ],
   "source": [
    "# Buy on the Open and sell on the close\n",
    "df['Profit'] = df['Close']-df['Open']\n",
    "df.head()"
   ]
  },
  {
   "cell_type": "code",
   "execution_count": 5,
   "metadata": {
    "collapsed": false
   },
   "outputs": [
    {
     "data": {
      "text/html": [
       "<div>\n",
       "<table border=\"1\" class=\"dataframe\">\n",
       "  <thead>\n",
       "    <tr style=\"text-align: right;\">\n",
       "      <th></th>\n",
       "      <th>Date</th>\n",
       "      <th>Open</th>\n",
       "      <th>High</th>\n",
       "      <th>Low</th>\n",
       "      <th>Close</th>\n",
       "      <th>Volume</th>\n",
       "      <th>Profit</th>\n",
       "      <th>ProfitLoss</th>\n",
       "    </tr>\n",
       "  </thead>\n",
       "  <tbody>\n",
       "    <tr>\n",
       "      <th>0</th>\n",
       "      <td>5/3/1982</td>\n",
       "      <td>63.81</td>\n",
       "      <td>63.88</td>\n",
       "      <td>63.50</td>\n",
       "      <td>63.50</td>\n",
       "      <td>0</td>\n",
       "      <td>-0.31</td>\n",
       "      <td>0</td>\n",
       "    </tr>\n",
       "    <tr>\n",
       "      <th>1</th>\n",
       "      <td>5/4/1982</td>\n",
       "      <td>63.44</td>\n",
       "      <td>64.12</td>\n",
       "      <td>63.38</td>\n",
       "      <td>64.00</td>\n",
       "      <td>0</td>\n",
       "      <td>0.56</td>\n",
       "      <td>1</td>\n",
       "    </tr>\n",
       "    <tr>\n",
       "      <th>2</th>\n",
       "      <td>5/5/1982</td>\n",
       "      <td>64.19</td>\n",
       "      <td>64.38</td>\n",
       "      <td>63.94</td>\n",
       "      <td>64.12</td>\n",
       "      <td>0</td>\n",
       "      <td>-0.07</td>\n",
       "      <td>0</td>\n",
       "    </tr>\n",
       "    <tr>\n",
       "      <th>3</th>\n",
       "      <td>5/6/1982</td>\n",
       "      <td>64.62</td>\n",
       "      <td>65.06</td>\n",
       "      <td>64.56</td>\n",
       "      <td>65.06</td>\n",
       "      <td>0</td>\n",
       "      <td>0.44</td>\n",
       "      <td>1</td>\n",
       "    </tr>\n",
       "    <tr>\n",
       "      <th>4</th>\n",
       "      <td>5/7/1982</td>\n",
       "      <td>65.31</td>\n",
       "      <td>65.38</td>\n",
       "      <td>64.94</td>\n",
       "      <td>65.31</td>\n",
       "      <td>0</td>\n",
       "      <td>0.00</td>\n",
       "      <td>0</td>\n",
       "    </tr>\n",
       "  </tbody>\n",
       "</table>\n",
       "</div>"
      ],
      "text/plain": [
       "       Date   Open   High    Low  Close Volume  Profit  ProfitLoss\n",
       "0  5/3/1982  63.81  63.88  63.50  63.50      0   -0.31           0\n",
       "1  5/4/1982  63.44  64.12  63.38  64.00      0    0.56           1\n",
       "2  5/5/1982  64.19  64.38  63.94  64.12      0   -0.07           0\n",
       "3  5/6/1982  64.62  65.06  64.56  65.06      0    0.44           1\n",
       "4  5/7/1982  65.31  65.38  64.94  65.31      0    0.00           0"
      ]
     },
     "execution_count": 5,
     "metadata": {},
     "output_type": "execute_result"
    }
   ],
   "source": [
    "df['ProfitLoss'] = [1 if x > 0 else 0 for x in df['Profit']]\n",
    "df.head()"
   ]
  },
  {
   "cell_type": "code",
   "execution_count": 6,
   "metadata": {
    "collapsed": true
   },
   "outputs": [],
   "source": [
    "df['Date']= pd.to_datetime(df['Date'])"
   ]
  },
  {
   "cell_type": "code",
   "execution_count": 7,
   "metadata": {
    "collapsed": false
   },
   "outputs": [
    {
     "data": {
      "text/html": [
       "<div>\n",
       "<table border=\"1\" class=\"dataframe\">\n",
       "  <thead>\n",
       "    <tr style=\"text-align: right;\">\n",
       "      <th></th>\n",
       "      <th>Date</th>\n",
       "      <th>Open</th>\n",
       "      <th>High</th>\n",
       "      <th>Low</th>\n",
       "      <th>Close</th>\n",
       "      <th>Volume</th>\n",
       "      <th>Profit</th>\n",
       "      <th>ProfitLoss</th>\n",
       "      <th>Day</th>\n",
       "      <th>Year</th>\n",
       "      <th>Month</th>\n",
       "    </tr>\n",
       "  </thead>\n",
       "  <tbody>\n",
       "    <tr>\n",
       "      <th>0</th>\n",
       "      <td>1982-05-03</td>\n",
       "      <td>63.81</td>\n",
       "      <td>63.88</td>\n",
       "      <td>63.50</td>\n",
       "      <td>63.50</td>\n",
       "      <td>0</td>\n",
       "      <td>-0.31</td>\n",
       "      <td>0</td>\n",
       "      <td>Monday</td>\n",
       "      <td>1982</td>\n",
       "      <td>5</td>\n",
       "    </tr>\n",
       "    <tr>\n",
       "      <th>1</th>\n",
       "      <td>1982-05-04</td>\n",
       "      <td>63.44</td>\n",
       "      <td>64.12</td>\n",
       "      <td>63.38</td>\n",
       "      <td>64.00</td>\n",
       "      <td>0</td>\n",
       "      <td>0.56</td>\n",
       "      <td>1</td>\n",
       "      <td>Tuesday</td>\n",
       "      <td>1982</td>\n",
       "      <td>5</td>\n",
       "    </tr>\n",
       "    <tr>\n",
       "      <th>2</th>\n",
       "      <td>1982-05-05</td>\n",
       "      <td>64.19</td>\n",
       "      <td>64.38</td>\n",
       "      <td>63.94</td>\n",
       "      <td>64.12</td>\n",
       "      <td>0</td>\n",
       "      <td>-0.07</td>\n",
       "      <td>0</td>\n",
       "      <td>Wednesday</td>\n",
       "      <td>1982</td>\n",
       "      <td>5</td>\n",
       "    </tr>\n",
       "    <tr>\n",
       "      <th>3</th>\n",
       "      <td>1982-05-06</td>\n",
       "      <td>64.62</td>\n",
       "      <td>65.06</td>\n",
       "      <td>64.56</td>\n",
       "      <td>65.06</td>\n",
       "      <td>0</td>\n",
       "      <td>0.44</td>\n",
       "      <td>1</td>\n",
       "      <td>Thursday</td>\n",
       "      <td>1982</td>\n",
       "      <td>5</td>\n",
       "    </tr>\n",
       "    <tr>\n",
       "      <th>4</th>\n",
       "      <td>1982-05-07</td>\n",
       "      <td>65.31</td>\n",
       "      <td>65.38</td>\n",
       "      <td>64.94</td>\n",
       "      <td>65.31</td>\n",
       "      <td>0</td>\n",
       "      <td>0.00</td>\n",
       "      <td>0</td>\n",
       "      <td>Friday</td>\n",
       "      <td>1982</td>\n",
       "      <td>5</td>\n",
       "    </tr>\n",
       "  </tbody>\n",
       "</table>\n",
       "</div>"
      ],
      "text/plain": [
       "        Date   Open   High    Low  Close Volume  Profit  ProfitLoss  \\\n",
       "0 1982-05-03  63.81  63.88  63.50  63.50      0   -0.31           0   \n",
       "1 1982-05-04  63.44  64.12  63.38  64.00      0    0.56           1   \n",
       "2 1982-05-05  64.19  64.38  63.94  64.12      0   -0.07           0   \n",
       "3 1982-05-06  64.62  65.06  64.56  65.06      0    0.44           1   \n",
       "4 1982-05-07  65.31  65.38  64.94  65.31      0    0.00           0   \n",
       "\n",
       "         Day  Year  Month  \n",
       "0     Monday  1982      5  \n",
       "1    Tuesday  1982      5  \n",
       "2  Wednesday  1982      5  \n",
       "3   Thursday  1982      5  \n",
       "4     Friday  1982      5  "
      ]
     },
     "execution_count": 7,
     "metadata": {},
     "output_type": "execute_result"
    }
   ],
   "source": [
    "# Add columns to extract Day, Year and Month\n",
    "df['Day'] = df['Date'].dt.weekday_name\n",
    "df['Year'],df['Month'] = df['Date'].dt.year,df['Date'].dt.month\n",
    "df.head()"
   ]
  },
  {
   "cell_type": "markdown",
   "metadata": {},
   "source": [
    "#       Analysis by Day of the week"
   ]
  },
  {
   "cell_type": "code",
   "execution_count": 8,
   "metadata": {
    "collapsed": false
   },
   "outputs": [
    {
     "data": {
      "text/html": [
       "<div>\n",
       "<table border=\"1\" class=\"dataframe\">\n",
       "  <thead>\n",
       "    <tr style=\"text-align: right;\">\n",
       "      <th></th>\n",
       "      <th>Day</th>\n",
       "      <th>Profit</th>\n",
       "      <th>ProfitLoss</th>\n",
       "    </tr>\n",
       "  </thead>\n",
       "  <tbody>\n",
       "    <tr>\n",
       "      <th>0</th>\n",
       "      <td>Monday</td>\n",
       "      <td>-0.31</td>\n",
       "      <td>0</td>\n",
       "    </tr>\n",
       "    <tr>\n",
       "      <th>1</th>\n",
       "      <td>Tuesday</td>\n",
       "      <td>0.56</td>\n",
       "      <td>1</td>\n",
       "    </tr>\n",
       "    <tr>\n",
       "      <th>2</th>\n",
       "      <td>Wednesday</td>\n",
       "      <td>-0.07</td>\n",
       "      <td>0</td>\n",
       "    </tr>\n",
       "    <tr>\n",
       "      <th>3</th>\n",
       "      <td>Thursday</td>\n",
       "      <td>0.44</td>\n",
       "      <td>1</td>\n",
       "    </tr>\n",
       "    <tr>\n",
       "      <th>4</th>\n",
       "      <td>Friday</td>\n",
       "      <td>0.00</td>\n",
       "      <td>0</td>\n",
       "    </tr>\n",
       "  </tbody>\n",
       "</table>\n",
       "</div>"
      ],
      "text/plain": [
       "         Day  Profit  ProfitLoss\n",
       "0     Monday   -0.31           0\n",
       "1    Tuesday    0.56           1\n",
       "2  Wednesday   -0.07           0\n",
       "3   Thursday    0.44           1\n",
       "4     Friday    0.00           0"
      ]
     },
     "execution_count": 8,
     "metadata": {},
     "output_type": "execute_result"
    }
   ],
   "source": [
    "# day_df = df[df.columns[6:9]]\n",
    "day_df = df[['Day','Profit','ProfitLoss']]\n",
    "day_df.head()"
   ]
  },
  {
   "cell_type": "code",
   "execution_count": 9,
   "metadata": {
    "collapsed": false
   },
   "outputs": [
    {
     "data": {
      "image/png": "[encoded data removed]",
      "text/plain": [
       "<matplotlib.figure.Figure at 0x22aae27d780>"
      ]
     },
     "metadata": {},
     "output_type": "display_data"
    }
   ],
   "source": [
    "# Groupby the day and plot the profit/loss\n",
    "day_grp = day_df.groupby('Day')\n",
    "dic={}\n",
    "for name,group in day_grp:\n",
    "    #print(name)\n",
    "    #print(group['Profit'].sum())\n",
    "    #print('--------------------------')\n",
    "    dic[name] = group['Profit'].sum()\n",
    "\n",
    "names = list(dic.keys())\n",
    "values = list(dic.values())\n",
    "plt.figure(figsize=(8,8))\n",
    "plt.bar(range(len(dic)),values,tick_label=names)\n",
    "plt.xlabel('Days')\n",
    "plt.ylabel('Profit / Loss ($ / contract)')\n",
    "plt.title('Day-wise profit')\n",
    "plt.show()"
   ]
  },
  {
   "cell_type": "markdown",
   "metadata": {},
   "source": [
    "## Analysis by year (May 1982 to March 2018) "
   ]
  },
  {
   "cell_type": "code",
   "execution_count": 10,
   "metadata": {
    "collapsed": false
   },
   "outputs": [
    {
     "data": {
      "text/html": [
       "<div>\n",
       "<table border=\"1\" class=\"dataframe\">\n",
       "  <thead>\n",
       "    <tr style=\"text-align: right;\">\n",
       "      <th></th>\n",
       "      <th>Year</th>\n",
       "      <th>Profit</th>\n",
       "      <th>ProfitLoss</th>\n",
       "    </tr>\n",
       "  </thead>\n",
       "  <tbody>\n",
       "    <tr>\n",
       "      <th>0</th>\n",
       "      <td>1982</td>\n",
       "      <td>-0.31</td>\n",
       "      <td>0</td>\n",
       "    </tr>\n",
       "    <tr>\n",
       "      <th>1</th>\n",
       "      <td>1982</td>\n",
       "      <td>0.56</td>\n",
       "      <td>1</td>\n",
       "    </tr>\n",
       "    <tr>\n",
       "      <th>2</th>\n",
       "      <td>1982</td>\n",
       "      <td>-0.07</td>\n",
       "      <td>0</td>\n",
       "    </tr>\n",
       "    <tr>\n",
       "      <th>3</th>\n",
       "      <td>1982</td>\n",
       "      <td>0.44</td>\n",
       "      <td>1</td>\n",
       "    </tr>\n",
       "    <tr>\n",
       "      <th>4</th>\n",
       "      <td>1982</td>\n",
       "      <td>0.00</td>\n",
       "      <td>0</td>\n",
       "    </tr>\n",
       "  </tbody>\n",
       "</table>\n",
       "</div>"
      ],
      "text/plain": [
       "   Year  Profit  ProfitLoss\n",
       "0  1982   -0.31           0\n",
       "1  1982    0.56           1\n",
       "2  1982   -0.07           0\n",
       "3  1982    0.44           1\n",
       "4  1982    0.00           0"
      ]
     },
     "execution_count": 10,
     "metadata": {},
     "output_type": "execute_result"
    }
   ],
   "source": [
    "year_df = df[['Year','Profit','ProfitLoss']]\n",
    "year_df.head()"
   ]
  },
  {
   "cell_type": "code",
   "execution_count": 11,
   "metadata": {
    "collapsed": false
   },
   "outputs": [
    {
     "data": {
      "image/png": "[encoded data removed]",
      "text/plain": [
       "<matplotlib.figure.Figure at 0x22aae27d400>"
      ]
     },
     "metadata": {},
     "output_type": "display_data"
    }
   ],
   "source": [
    "# Groupby the year and plot the profit/loss\n",
    "year_grp = year_df.groupby('Year')\n",
    "dic2={}\n",
    "for yname,ygroup in year_grp:\n",
    "    #print(yname)\n",
    "    #print(group['Profit'].sum())\n",
    "    #print('--------------------------')\n",
    "    dic2[yname] = ygroup['Profit'].sum()\n",
    "\n",
    "ynames = list(dic2.keys())\n",
    "yvalues = list(dic2.values())\n",
    "plt.figure(figsize=(20,15))\n",
    "plt.bar(range(len(dic2)),yvalues,tick_label=ynames)\n",
    "plt.xlabel('Years')\n",
    "plt.ylabel('Profit / Loss ($ / contract)')\n",
    "plt.title('Year-wise profit')\n",
    "plt.show()"
   ]
  },
  {
   "cell_type": "markdown",
   "metadata": {},
   "source": [
    "## Analysis by month (May 1982 to March 2018)"
   ]
  },
  {
   "cell_type": "code",
   "execution_count": 12,
   "metadata": {
    "collapsed": false
   },
   "outputs": [
    {
     "data": {
      "text/html": [
       "<div>\n",
       "<table border=\"1\" class=\"dataframe\">\n",
       "  <thead>\n",
       "    <tr style=\"text-align: right;\">\n",
       "      <th></th>\n",
       "      <th>Month</th>\n",
       "      <th>Profit</th>\n",
       "      <th>ProfitLoss</th>\n",
       "    </tr>\n",
       "  </thead>\n",
       "  <tbody>\n",
       "    <tr>\n",
       "      <th>0</th>\n",
       "      <td>5</td>\n",
       "      <td>-0.31</td>\n",
       "      <td>0</td>\n",
       "    </tr>\n",
       "    <tr>\n",
       "      <th>1</th>\n",
       "      <td>5</td>\n",
       "      <td>0.56</td>\n",
       "      <td>1</td>\n",
       "    </tr>\n",
       "    <tr>\n",
       "      <th>2</th>\n",
       "      <td>5</td>\n",
       "      <td>-0.07</td>\n",
       "      <td>0</td>\n",
       "    </tr>\n",
       "    <tr>\n",
       "      <th>3</th>\n",
       "      <td>5</td>\n",
       "      <td>0.44</td>\n",
       "      <td>1</td>\n",
       "    </tr>\n",
       "    <tr>\n",
       "      <th>4</th>\n",
       "      <td>5</td>\n",
       "      <td>0.00</td>\n",
       "      <td>0</td>\n",
       "    </tr>\n",
       "  </tbody>\n",
       "</table>\n",
       "</div>"
      ],
      "text/plain": [
       "   Month  Profit  ProfitLoss\n",
       "0      5   -0.31           0\n",
       "1      5    0.56           1\n",
       "2      5   -0.07           0\n",
       "3      5    0.44           1\n",
       "4      5    0.00           0"
      ]
     },
     "execution_count": 12,
     "metadata": {},
     "output_type": "execute_result"
    }
   ],
   "source": [
    "mon_df = df[['Month','Profit','ProfitLoss']]\n",
    "mon_df.head()"
   ]
  },
  {
   "cell_type": "code",
   "execution_count": 13,
   "metadata": {
    "collapsed": false
   },
   "outputs": [
    {
     "data": {
      "image/png": "[encoded data removed]",
      "text/plain": [
       "<matplotlib.figure.Figure at 0x22aae28d6a0>"
      ]
     },
     "metadata": {},
     "output_type": "display_data"
    }
   ],
   "source": [
    "# Groupby the year and plot the profit/loss\n",
    "mon_grp = mon_df.groupby('Month')\n",
    "dic3={}\n",
    "for mname,mgroup in mon_grp:\n",
    "    #print(mname)\n",
    "    #print(mgroup['Profit'].sum())\n",
    "    #print('--------------------------')\n",
    "    dic3[mname] = mgroup['Profit'].sum()\n",
    "\n",
    "mnames = ['Jan','Feb','Mar','Apr','May','Jun','Jul','Aug','Sept','Oct','Nov','Dec']\n",
    "mvalues = list(dic3.values())\n",
    "plt.figure(figsize=(20,15))\n",
    "plt.bar(range(len(dic3)),mvalues,tick_label=mnames)\n",
    "plt.xlabel('Months')\n",
    "plt.ylabel('Profit / Loss ($ / contract)')\n",
    "plt.title('Month-wise profit')\n",
    "plt.show()"
   ]
  },
  {
   "cell_type": "markdown",
   "metadata": {},
   "source": [
    "## Results:\n",
    "         1) If we just bought and sold one future contract everyday since May 1982, \n",
    "              a) Best year : 2011\n",
    "                 Worst Year : 1999\n",
    "              b) Best Month : August\n",
    "                 Worst Month : March\n",
    "              c) Best Day : Tuesday\n",
    "                 Worst Day : Wednesday"
   ]
  },
  {
   "cell_type": "code",
   "execution_count": null,
   "metadata": {
    "collapsed": true
   },
   "outputs": [],
   "source": []
  }
 ],
 "metadata": {
  "kernelspec": {
   "display_name": "Python 3",
   "language": "python",
   "name": "python3"
  },
  "language_info": {
   "codemirror_mode": {
    "name": "ipython",
    "version": 3
   },
   "file_extension": ".py",
   "mimetype": "text/x-python",
   "name": "python",
   "nbconvert_exporter": "python",
   "pygments_lexer": "ipython3",
   "version": "3.6.0"
  }
 },
 "nbformat": 4,
 "nbformat_minor": 2
}
