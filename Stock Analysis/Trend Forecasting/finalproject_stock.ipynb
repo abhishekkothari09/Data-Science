{
 "cells": [
  {
   "cell_type": "code",
   "execution_count": 6,
   "metadata": {
    "collapsed": false
   },
   "outputs": [],
   "source": [
    "# import specific libraries \n",
    "%matplotlib inline\n",
    "\n",
    "from sklearn.tree import DecisionTreeClassifier\n",
    "from sklearn.ensemble import VotingClassifier\n",
    "#from sklearn import model_selection\n",
    "from sklearn.ensemble import RandomForestClassifier\n",
    "import csv\n",
    "from sklearn import datasets, linear_model\n",
    "from sklearn.model_selection import train_test_split\n",
    "import numpy as np\n",
    "import pandas as pd\n",
    "import matplotlib.pyplot as plt\n",
    "from random import sample\n",
    "from sklearn import svm\n",
    "from sklearn.svm import SVC\n",
    "from sklearn.linear_model import LinearRegression, LogisticRegression\n",
    "from sklearn.cross_validation import cross_val_score, KFold"
   ]
  },
  {
   "cell_type": "code",
   "execution_count": 7,
   "metadata": {
    "collapsed": true
   },
   "outputs": [],
   "source": [
    "# Read data from the data created\n",
    "df = pd.read_csv('MLstock_N.csv', header=None)\n",
    "data = np.array(df.values)\n",
    "X = data[1:,1:28]\n",
    "Y=[]\n",
    "\n",
    "Y1 = data[1:,28]\n",
    "Y3 = data[1:,29]\n",
    "Y5 = data[1:,30]\n",
    "Y10 = data[1:,31]\n",
    "Y.append(Y1)\n",
    "Y.append(Y3)\n",
    "Y.append(Y5)\n",
    "Y.append(Y10)"
   ]
  },
  {
   "cell_type": "markdown",
   "metadata": {},
   "source": [
    "# Without Ensemble :"
   ]
  },
  {
   "cell_type": "code",
   "execution_count": 8,
   "metadata": {
    "collapsed": false
   },
   "outputs": [
    {
     "name": "stdout",
     "output_type": "stream",
     "text": [
      "\n",
      "\n",
      "predit the next  1  day:\n",
      "\n",
      "Logistic Regress: 0.535237 \n",
      "SVM rbf:: 0.519495 \n",
      "Random Forest 0.517724 \n",
      "\n",
      "\n",
      "predit the next  3  day:\n",
      "\n",
      "Logistic Regress: 0.587529 \n",
      "SVM rbf:: 0.707983 \n",
      "Random Forest 0.691112 \n",
      "\n",
      "\n",
      "predit the next  5  day:\n",
      "\n",
      "Logistic Regress: 0.592153 \n",
      "SVM rbf:: 0.733554 \n",
      "Random Forest 0.752176 \n",
      "\n",
      "\n",
      "predit the next  10  day:\n",
      "\n",
      "Logistic Regress: 0.610809 \n",
      "SVM rbf:: 0.771393 \n",
      "Random Forest 0.823725 \n"
     ]
    }
   ],
   "source": [
    "i=0\n",
    "for y in Y:\n",
    "    day=[1,3,5,10]\n",
    "    k_fold = KFold(len(y), n_folds=10, shuffle = True, random_state=0)\n",
    "    modelL = LogisticRegression()\n",
    "    modelS = svm.SVC(kernel='rbf',C=1e3,gamma=0.1)\n",
    "    modelR = RandomForestClassifier(n_estimators=10)\n",
    "    modelL.fit(X,y)\n",
    "    modelS.fit(X,y)\n",
    "    modelR.fit(X,y)\n",
    "    scoreL=cross_val_score(modelL, X, y, cv=k_fold)\n",
    "    scoreS=cross_val_score(modelS, X, y, cv=k_fold)\n",
    "    scoreR=cross_val_score(modelR, X, y, cv=k_fold)\n",
    "\n",
    "    print \"\\n\"\n",
    "    print \"predit the next \",day[i], \" day:\\n\"\n",
    "    print \"Logistic Regress: %f \" % (scoreL.mean())\n",
    "    print \"SVM rbf:: %f \" % (scoreS.mean()) \n",
    "    print \"Random Forest %f \" % (scoreR.mean()) \n",
    "   \n",
    "    i=i+1"
   ]
  },
  {
   "cell_type": "markdown",
   "metadata": {},
   "source": [
    "# Using Ensemble :"
   ]
  },
  {
   "cell_type": "code",
   "execution_count": 9,
   "metadata": {
    "collapsed": false
   },
   "outputs": [
    {
     "name": "stdout",
     "output_type": "stream",
     "text": [
      "\n",
      "\n",
      "predit the next  1  day:\n",
      "\n",
      "Accuracy: 0.54 (+/- 0.06) [Logistic Regression]\n",
      "Accuracy: 0.52 (+/- 0.03) [SVM]\n",
      "Accuracy: 0.50 (+/- 0.03) [Random Forest]\n",
      "Accuracy: 0.53 (+/- 0.03) [Ensemble]\n",
      "\n",
      "\n",
      "predit the next  3  day:\n",
      "\n",
      "Accuracy: 0.59 (+/- 0.03) [Logistic Regression]\n",
      "Accuracy: 0.71 (+/- 0.03) [SVM]\n",
      "Accuracy: 0.69 (+/- 0.04) [Random Forest]\n",
      "Accuracy: 0.71 (+/- 0.03) [Ensemble]\n",
      "\n",
      "\n",
      "predit the next  5  day:\n",
      "\n",
      "Accuracy: 0.59 (+/- 0.04) [Logistic Regression]\n",
      "Accuracy: 0.73 (+/- 0.05) [SVM]\n",
      "Accuracy: 0.75 (+/- 0.02) [Random Forest]\n",
      "Accuracy: 0.76 (+/- 0.04) [Ensemble]\n",
      "\n",
      "\n",
      "predit the next  10  day:\n",
      "\n",
      "Accuracy: 0.61 (+/- 0.04) [Logistic Regression]\n",
      "Accuracy: 0.77 (+/- 0.03) [SVM]\n",
      "Accuracy: 0.83 (+/- 0.03) [Random Forest]\n",
      "Accuracy: 0.81 (+/- 0.03) [Ensemble]\n"
     ]
    }
   ],
   "source": [
    "i=0\n",
    "for y in Y:\n",
    "    day=[1,3,5,10]\n",
    "    k_fold = KFold(len(y), n_folds=10, shuffle = True, random_state=0)\n",
    "    clfL=LogisticRegression()\n",
    "    clfS=svm.SVC(kernel='rbf',C=1e3,gamma=0.1)\n",
    "    clfR=RandomForestClassifier(n_estimators=10)\n",
    "    clfE=VotingClassifier(estimators=[('lr', clfL), ('svm', clfS), ('rf', clfR)], voting='hard')\n",
    "    print \"\\n\"\n",
    "    print \"predit the next \",day[i], \" day:\\n\"\n",
    "    for clf, label in zip([clfL, clfS, clfR, clfE], ['Logistic Regression', 'SVM', 'Random Forest', 'Ensemble']):\n",
    "        scores = cross_val_score(clf, X, y, cv=k_fold)\n",
    "        print(\"Accuracy: %0.2f (+/- %0.2f) [%s]\" % (scores.mean(), scores.std(), label))\n",
    "    i=i+1"
   ]
  },
  {
   "cell_type": "code",
   "execution_count": null,
   "metadata": {
    "collapsed": true
   },
   "outputs": [],
   "source": []
  }
 ],
 "metadata": {
  "kernelspec": {
   "display_name": "Python 3",
   "language": "python",
   "name": "python3"
  },
  "language_info": {
   "codemirror_mode": {
    "name": "ipython",
    "version": 3
   },
   "file_extension": ".py",
   "mimetype": "text/x-python",
   "name": "python",
   "nbconvert_exporter": "python",
   "pygments_lexer": "ipython3",
   "version": "3.6.0"
  }
 },
 "nbformat": 4,
 "nbformat_minor": 2
}
