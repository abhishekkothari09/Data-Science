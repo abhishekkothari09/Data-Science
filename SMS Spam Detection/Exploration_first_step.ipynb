{
 "cells": [
  {
   "cell_type": "code",
   "execution_count": 1,
   "metadata": {
    "collapsed": true
   },
   "outputs": [],
   "source": [
    "import pandas as pd\n",
    "import nltk\n",
    "import string\n",
    "import re\n",
    "pd.set_option(\"display.max_colwidth\",100)"
   ]
  },
  {
   "cell_type": "code",
   "execution_count": 2,
   "metadata": {
    "collapsed": false
   },
   "outputs": [
    {
     "data": {
      "text/html": [
       "<div>\n",
       "<table border=\"1\" class=\"dataframe\">\n",
       "  <thead>\n",
       "    <tr style=\"text-align: right;\">\n",
       "      <th></th>\n",
       "      <th>label</th>\n",
       "      <th>body_text</th>\n",
       "    </tr>\n",
       "  </thead>\n",
       "  <tbody>\n",
       "    <tr>\n",
       "      <th>0</th>\n",
       "      <td>spam</td>\n",
       "      <td>Free entry in 2 a wkly comp to win FA Cup final tkts 21st May 2005. Text FA to 87121 to receive ...</td>\n",
       "    </tr>\n",
       "    <tr>\n",
       "      <th>1</th>\n",
       "      <td>ham</td>\n",
       "      <td>Nah I don't think he goes to usf, he lives around here though</td>\n",
       "    </tr>\n",
       "    <tr>\n",
       "      <th>2</th>\n",
       "      <td>ham</td>\n",
       "      <td>Even my brother is not like to speak with me. They treat me like aids patent.</td>\n",
       "    </tr>\n",
       "    <tr>\n",
       "      <th>3</th>\n",
       "      <td>ham</td>\n",
       "      <td>I HAVE A DATE ON SUNDAY WITH WILL!!</td>\n",
       "    </tr>\n",
       "    <tr>\n",
       "      <th>4</th>\n",
       "      <td>ham</td>\n",
       "      <td>As per your request 'Melle Melle (Oru Minnaminunginte Nurungu Vettam)' has been set as your call...</td>\n",
       "    </tr>\n",
       "  </tbody>\n",
       "</table>\n",
       "</div>"
      ],
      "text/plain": [
       "  label  \\\n",
       "0  spam   \n",
       "1   ham   \n",
       "2   ham   \n",
       "3   ham   \n",
       "4   ham   \n",
       "\n",
       "                                                                                             body_text  \n",
       "0  Free entry in 2 a wkly comp to win FA Cup final tkts 21st May 2005. Text FA to 87121 to receive ...  \n",
       "1                                        Nah I don't think he goes to usf, he lives around here though  \n",
       "2                        Even my brother is not like to speak with me. They treat me like aids patent.  \n",
       "3                                                                  I HAVE A DATE ON SUNDAY WITH WILL!!  \n",
       "4  As per your request 'Melle Melle (Oru Minnaminunginte Nurungu Vettam)' has been set as your call...  "
      ]
     },
     "execution_count": 2,
     "metadata": {},
     "output_type": "execute_result"
    }
   ],
   "source": [
    "# Read the data\n",
    "data = pd.read_csv(\"SMSSpamCollection.tsv\",sep=\"\\t\")\n",
    "data.columns=['label','body_text']\n",
    "data.head()"
   ]
  },
  {
   "cell_type": "markdown",
   "metadata": {},
   "source": [
    "# Feature Engineering"
   ]
  },
  {
   "cell_type": "code",
   "execution_count": 3,
   "metadata": {
    "collapsed": false
   },
   "outputs": [
    {
     "data": {
      "text/html": [
       "<div>\n",
       "<table border=\"1\" class=\"dataframe\">\n",
       "  <thead>\n",
       "    <tr style=\"text-align: right;\">\n",
       "      <th></th>\n",
       "      <th>label</th>\n",
       "      <th>body_text</th>\n",
       "      <th>text_length</th>\n",
       "    </tr>\n",
       "  </thead>\n",
       "  <tbody>\n",
       "    <tr>\n",
       "      <th>0</th>\n",
       "      <td>spam</td>\n",
       "      <td>Free entry in 2 a wkly comp to win FA Cup final tkts 21st May 2005. Text FA to 87121 to receive ...</td>\n",
       "      <td>128</td>\n",
       "    </tr>\n",
       "    <tr>\n",
       "      <th>1</th>\n",
       "      <td>ham</td>\n",
       "      <td>Nah I don't think he goes to usf, he lives around here though</td>\n",
       "      <td>49</td>\n",
       "    </tr>\n",
       "    <tr>\n",
       "      <th>2</th>\n",
       "      <td>ham</td>\n",
       "      <td>Even my brother is not like to speak with me. They treat me like aids patent.</td>\n",
       "      <td>62</td>\n",
       "    </tr>\n",
       "    <tr>\n",
       "      <th>3</th>\n",
       "      <td>ham</td>\n",
       "      <td>I HAVE A DATE ON SUNDAY WITH WILL!!</td>\n",
       "      <td>28</td>\n",
       "    </tr>\n",
       "    <tr>\n",
       "      <th>4</th>\n",
       "      <td>ham</td>\n",
       "      <td>As per your request 'Melle Melle (Oru Minnaminunginte Nurungu Vettam)' has been set as your call...</td>\n",
       "      <td>135</td>\n",
       "    </tr>\n",
       "  </tbody>\n",
       "</table>\n",
       "</div>"
      ],
      "text/plain": [
       "  label  \\\n",
       "0  spam   \n",
       "1   ham   \n",
       "2   ham   \n",
       "3   ham   \n",
       "4   ham   \n",
       "\n",
       "                                                                                             body_text  \\\n",
       "0  Free entry in 2 a wkly comp to win FA Cup final tkts 21st May 2005. Text FA to 87121 to receive ...   \n",
       "1                                        Nah I don't think he goes to usf, he lives around here though   \n",
       "2                        Even my brother is not like to speak with me. They treat me like aids patent.   \n",
       "3                                                                  I HAVE A DATE ON SUNDAY WITH WILL!!   \n",
       "4  As per your request 'Melle Melle (Oru Minnaminunginte Nurungu Vettam)' has been set as your call...   \n",
       "\n",
       "   text_length  \n",
       "0          128  \n",
       "1           49  \n",
       "2           62  \n",
       "3           28  \n",
       "4          135  "
      ]
     },
     "execution_count": 3,
     "metadata": {},
     "output_type": "execute_result"
    }
   ],
   "source": [
    "# Hypothesis: Length of text in Spam msgs are higher \n",
    "# Feature: Text length\n",
    "\n",
    "data['text_length'] = data['body_text'].apply(lambda x: len(x)-x.count(\" \"))\n",
    "data.head()"
   ]
  },
  {
   "cell_type": "code",
   "execution_count": 4,
   "metadata": {
    "collapsed": false
   },
   "outputs": [
    {
     "data": {
      "text/html": [
       "<div>\n",
       "<table border=\"1\" class=\"dataframe\">\n",
       "  <thead>\n",
       "    <tr style=\"text-align: right;\">\n",
       "      <th></th>\n",
       "      <th>label</th>\n",
       "      <th>body_text</th>\n",
       "      <th>text_length</th>\n",
       "      <th>punc</th>\n",
       "    </tr>\n",
       "  </thead>\n",
       "  <tbody>\n",
       "    <tr>\n",
       "      <th>0</th>\n",
       "      <td>spam</td>\n",
       "      <td>Free entry in 2 a wkly comp to win FA Cup final tkts 21st May 2005. Text FA to 87121 to receive ...</td>\n",
       "      <td>128</td>\n",
       "      <td>4.7</td>\n",
       "    </tr>\n",
       "    <tr>\n",
       "      <th>1</th>\n",
       "      <td>ham</td>\n",
       "      <td>Nah I don't think he goes to usf, he lives around here though</td>\n",
       "      <td>49</td>\n",
       "      <td>4.1</td>\n",
       "    </tr>\n",
       "    <tr>\n",
       "      <th>2</th>\n",
       "      <td>ham</td>\n",
       "      <td>Even my brother is not like to speak with me. They treat me like aids patent.</td>\n",
       "      <td>62</td>\n",
       "      <td>3.2</td>\n",
       "    </tr>\n",
       "    <tr>\n",
       "      <th>3</th>\n",
       "      <td>ham</td>\n",
       "      <td>I HAVE A DATE ON SUNDAY WITH WILL!!</td>\n",
       "      <td>28</td>\n",
       "      <td>7.1</td>\n",
       "    </tr>\n",
       "    <tr>\n",
       "      <th>4</th>\n",
       "      <td>ham</td>\n",
       "      <td>As per your request 'Melle Melle (Oru Minnaminunginte Nurungu Vettam)' has been set as your call...</td>\n",
       "      <td>135</td>\n",
       "      <td>4.4</td>\n",
       "    </tr>\n",
       "  </tbody>\n",
       "</table>\n",
       "</div>"
      ],
      "text/plain": [
       "  label  \\\n",
       "0  spam   \n",
       "1   ham   \n",
       "2   ham   \n",
       "3   ham   \n",
       "4   ham   \n",
       "\n",
       "                                                                                             body_text  \\\n",
       "0  Free entry in 2 a wkly comp to win FA Cup final tkts 21st May 2005. Text FA to 87121 to receive ...   \n",
       "1                                        Nah I don't think he goes to usf, he lives around here though   \n",
       "2                        Even my brother is not like to speak with me. They treat me like aids patent.   \n",
       "3                                                                  I HAVE A DATE ON SUNDAY WITH WILL!!   \n",
       "4  As per your request 'Melle Melle (Oru Minnaminunginte Nurungu Vettam)' has been set as your call...   \n",
       "\n",
       "   text_length  punc  \n",
       "0          128   4.7  \n",
       "1           49   4.1  \n",
       "2           62   3.2  \n",
       "3           28   7.1  \n",
       "4          135   4.4  "
      ]
     },
     "execution_count": 4,
     "metadata": {},
     "output_type": "execute_result"
    }
   ],
   "source": [
    "# Hypothesis: Spam messages have more punctuations\n",
    "# Feature: % of punctuations\n",
    "\n",
    "def count_punct(text):\n",
    "    tot = sum(1 for char in text if char in string.punctuation)\n",
    "    return round(tot/(len(text)-text.count(\" \")),3)*100\n",
    "\n",
    "data['punc'] = data['body_text'].apply(lambda x:count_punct(x))\n",
    "data.head()"
   ]
  },
  {
   "cell_type": "markdown",
   "metadata": {},
   "source": [
    "# Feature Evaluation"
   ]
  },
  {
   "cell_type": "code",
   "execution_count": 5,
   "metadata": {
    "collapsed": true
   },
   "outputs": [],
   "source": [
    "from matplotlib import pyplot\n",
    "import numpy as np\n",
    "%matplotlib inline"
   ]
  },
  {
   "cell_type": "code",
   "execution_count": 6,
   "metadata": {
    "collapsed": false
   },
   "outputs": [
    {
     "data": {
      "image/png": "[encoded data removed]",
      "text/plain": [
       "<matplotlib.figure.Figure at 0x253fbf86be0>"
      ]
     },
     "metadata": {},
     "output_type": "display_data"
    }
   ],
   "source": [
    "# Check the distribution of text length feature.\n",
    "bins = np.linspace(0,200,40)\n",
    "pyplot.hist(data[data['label']=='spam']['text_length'],bins,normed=True,alpha=0.8,label='spam')\n",
    "pyplot.hist(data[data['label']=='ham']['text_length'],bins,normed=True,alpha=0.8,label='ham')\n",
    "pyplot.legend(loc='best')\n",
    "pyplot.title(\"Text length\")\n",
    "pyplot.show()"
   ]
  },
  {
   "cell_type": "code",
   "execution_count": 7,
   "metadata": {
    "collapsed": false
   },
   "outputs": [
    {
     "data": {
      "image/png": "[encoded data removed]",
      "text/plain": [
       "<matplotlib.figure.Figure at 0x253fd5d3cc0>"
      ]
     },
     "metadata": {},
     "output_type": "display_data"
    }
   ],
   "source": [
    "# Check the distribution for punctuation % feature \n",
    "bins = np.linspace(0,50,40)\n",
    "pyplot.hist(data[data['label']=='spam']['punc'],bins,normed=True,alpha=0.8,label='spam')\n",
    "pyplot.hist(data[data['label']=='ham']['punc'],bins,normed=True,alpha=0.8,label='ham')\n",
    "pyplot.legend(loc='best')\n",
    "pyplot.title(\"Punctuation %\")\n",
    "pyplot.show()"
   ]
  },
  {
   "cell_type": "markdown",
   "metadata": {},
   "source": [
    "# Feature Transformation"
   ]
  },
  {
   "cell_type": "code",
   "execution_count": 8,
   "metadata": {
    "collapsed": false
   },
   "outputs": [
    {
     "data": {
      "image/png": "[encoded data removed]",
      "text/plain": [
       "<matplotlib.figure.Figure at 0x253fd68c550>"
      ]
     },
     "metadata": {},
     "output_type": "display_data"
    }
   ],
   "source": [
    "# Check of the distribution is skewed\n",
    "bins = np.linspace(0,200,40)\n",
    "pyplot.hist(data['text_length'],bins)\n",
    "pyplot.title(\"Text Length distribution\")\n",
    "pyplot.show()\n",
    "\n",
    "# Not good for transformation since it is bimodal. \n",
    "# Ideal candidates are the ones which are skewed, as a long tail and outliers can cause a model to be biased, hence we use transformation."
   ]
  },
  {
   "cell_type": "code",
   "execution_count": 9,
   "metadata": {
    "collapsed": false
   },
   "outputs": [
    {
     "data": {
      "image/png": "[encoded data removed]",
      "text/plain": [
       "<matplotlib.figure.Figure at 0x253fd524278>"
      ]
     },
     "metadata": {},
     "output_type": "display_data"
    }
   ],
   "source": [
    "bins = np.linspace(0,50,40)\n",
    "pyplot.hist(data['punc'],bins)\n",
    "pyplot.title(\"Punctuation % distribution\")\n",
    "pyplot.show()\n",
    "\n",
    "# Good Candidate as it is skewed"
   ]
  },
  {
   "cell_type": "code",
   "execution_count": 10,
   "metadata": {
    "collapsed": false
   },
   "outputs": [
    {
     "data": {
      "image/png": "[encoded data removed]",
      "text/plain": [
       "<matplotlib.figure.Figure at 0x253fd57dc50>"
      ]
     },
     "metadata": {},
     "output_type": "display_data"
    },
    {
     "data": {
      "image/png": "[encoded data removed]",
      "text/plain": [
       "<matplotlib.figure.Figure at 0x253fd5664a8>"
      ]
     },
     "metadata": {},
     "output_type": "display_data"
    },
    {
     "data": {
      "image/png": "[encoded data removed]",
      "text/plain": [
       "<matplotlib.figure.Figure at 0x253fd8dab70>"
      ]
     },
     "metadata": {},
     "output_type": "display_data"
    },
    {
     "data": {
      "image/png": "[encoded data removed]",
      "text/plain": [
       "<matplotlib.figure.Figure at 0x253fd88cb70>"
      ]
     },
     "metadata": {},
     "output_type": "display_data"
    },
    {
     "data": {
      "image/png": "[encoded data removed]",
      "text/plain": [
       "<matplotlib.figure.Figure at 0x253fdb10c50>"
      ]
     },
     "metadata": {},
     "output_type": "display_data"
    }
   ],
   "source": [
    "# Box Cox Transformation\n",
    "\n",
    "for i in [1,2,3,4,5]:\n",
    "    pyplot.hist((data['punc'])**(1/i),bins=40)\n",
    "    pyplot.title(\"Transformation: 1/{}\".format(str(i)))\n",
    "    pyplot.show()\n",
    "    \n",
    "# Bar at 0 represent the 0's in the data which are without punctuation\n",
    "# 0's remain 0's after transformation"
   ]
  },
  {
   "cell_type": "markdown",
   "metadata": {},
   "source": [
    "# Data Wrangling"
   ]
  },
  {
   "cell_type": "code",
   "execution_count": 11,
   "metadata": {
    "collapsed": false
   },
   "outputs": [],
   "source": [
    "# For stopwords and stemming\n",
    "stopwords = nltk.corpus.stopwords.words('english')\n",
    "pa = nltk.PorterStemmer()"
   ]
  },
  {
   "cell_type": "code",
   "execution_count": 12,
   "metadata": {
    "collapsed": false
   },
   "outputs": [],
   "source": [
    "# Remove punctuation, tokenize, remove stop words and stemming\n",
    "\n",
    "def clean_text(text):\n",
    "    text = \"\".join([char for char in text if char not in string.punctuation]) # remove punctuation\n",
    "    tokens = re.split(\"\\W+\",text)                                             # tokenize\n",
    "    text = [pa.stem(word) for word in tokens if word not in stopwords]        # remove stop words and stem\n",
    "    return text\n",
    "    \n",
    "# data['cleaned'] = data['body_text'].apply(lambda x:clean_text(x.lower()))\n",
    "# data.head()"
   ]
  },
  {
   "cell_type": "code",
   "execution_count": 13,
   "metadata": {
    "collapsed": false
   },
   "outputs": [
    {
     "data": {
      "text/html": [
       "<div>\n",
       "<table border=\"1\" class=\"dataframe\">\n",
       "  <thead>\n",
       "    <tr style=\"text-align: right;\">\n",
       "      <th></th>\n",
       "      <th>text_length</th>\n",
       "      <th>punc</th>\n",
       "      <th>0</th>\n",
       "      <th>1</th>\n",
       "      <th>2</th>\n",
       "      <th>3</th>\n",
       "      <th>4</th>\n",
       "      <th>5</th>\n",
       "      <th>6</th>\n",
       "      <th>7</th>\n",
       "      <th>...</th>\n",
       "      <th>8324</th>\n",
       "      <th>8325</th>\n",
       "      <th>8326</th>\n",
       "      <th>8327</th>\n",
       "      <th>8328</th>\n",
       "      <th>8329</th>\n",
       "      <th>8330</th>\n",
       "      <th>8331</th>\n",
       "      <th>8332</th>\n",
       "      <th>8333</th>\n",
       "    </tr>\n",
       "  </thead>\n",
       "  <tbody>\n",
       "    <tr>\n",
       "      <th>0</th>\n",
       "      <td>128</td>\n",
       "      <td>4.7</td>\n",
       "      <td>0.0</td>\n",
       "      <td>0.0</td>\n",
       "      <td>0.0</td>\n",
       "      <td>0.0</td>\n",
       "      <td>0.0</td>\n",
       "      <td>0.0</td>\n",
       "      <td>0.0</td>\n",
       "      <td>0.0</td>\n",
       "      <td>...</td>\n",
       "      <td>0.0</td>\n",
       "      <td>0.0</td>\n",
       "      <td>0.0</td>\n",
       "      <td>0.0</td>\n",
       "      <td>0.0</td>\n",
       "      <td>0.0</td>\n",
       "      <td>0.0</td>\n",
       "      <td>0.0</td>\n",
       "      <td>0.0</td>\n",
       "      <td>0.0</td>\n",
       "    </tr>\n",
       "    <tr>\n",
       "      <th>1</th>\n",
       "      <td>49</td>\n",
       "      <td>4.1</td>\n",
       "      <td>0.0</td>\n",
       "      <td>0.0</td>\n",
       "      <td>0.0</td>\n",
       "      <td>0.0</td>\n",
       "      <td>0.0</td>\n",
       "      <td>0.0</td>\n",
       "      <td>0.0</td>\n",
       "      <td>0.0</td>\n",
       "      <td>...</td>\n",
       "      <td>0.0</td>\n",
       "      <td>0.0</td>\n",
       "      <td>0.0</td>\n",
       "      <td>0.0</td>\n",
       "      <td>0.0</td>\n",
       "      <td>0.0</td>\n",
       "      <td>0.0</td>\n",
       "      <td>0.0</td>\n",
       "      <td>0.0</td>\n",
       "      <td>0.0</td>\n",
       "    </tr>\n",
       "    <tr>\n",
       "      <th>2</th>\n",
       "      <td>62</td>\n",
       "      <td>3.2</td>\n",
       "      <td>0.0</td>\n",
       "      <td>0.0</td>\n",
       "      <td>0.0</td>\n",
       "      <td>0.0</td>\n",
       "      <td>0.0</td>\n",
       "      <td>0.0</td>\n",
       "      <td>0.0</td>\n",
       "      <td>0.0</td>\n",
       "      <td>...</td>\n",
       "      <td>0.0</td>\n",
       "      <td>0.0</td>\n",
       "      <td>0.0</td>\n",
       "      <td>0.0</td>\n",
       "      <td>0.0</td>\n",
       "      <td>0.0</td>\n",
       "      <td>0.0</td>\n",
       "      <td>0.0</td>\n",
       "      <td>0.0</td>\n",
       "      <td>0.0</td>\n",
       "    </tr>\n",
       "    <tr>\n",
       "      <th>3</th>\n",
       "      <td>28</td>\n",
       "      <td>7.1</td>\n",
       "      <td>0.0</td>\n",
       "      <td>0.0</td>\n",
       "      <td>0.0</td>\n",
       "      <td>0.0</td>\n",
       "      <td>0.0</td>\n",
       "      <td>0.0</td>\n",
       "      <td>0.0</td>\n",
       "      <td>0.0</td>\n",
       "      <td>...</td>\n",
       "      <td>0.0</td>\n",
       "      <td>0.0</td>\n",
       "      <td>0.0</td>\n",
       "      <td>0.0</td>\n",
       "      <td>0.0</td>\n",
       "      <td>0.0</td>\n",
       "      <td>0.0</td>\n",
       "      <td>0.0</td>\n",
       "      <td>0.0</td>\n",
       "      <td>0.0</td>\n",
       "    </tr>\n",
       "    <tr>\n",
       "      <th>4</th>\n",
       "      <td>135</td>\n",
       "      <td>4.4</td>\n",
       "      <td>0.0</td>\n",
       "      <td>0.0</td>\n",
       "      <td>0.0</td>\n",
       "      <td>0.0</td>\n",
       "      <td>0.0</td>\n",
       "      <td>0.0</td>\n",
       "      <td>0.0</td>\n",
       "      <td>0.0</td>\n",
       "      <td>...</td>\n",
       "      <td>0.0</td>\n",
       "      <td>0.0</td>\n",
       "      <td>0.0</td>\n",
       "      <td>0.0</td>\n",
       "      <td>0.0</td>\n",
       "      <td>0.0</td>\n",
       "      <td>0.0</td>\n",
       "      <td>0.0</td>\n",
       "      <td>0.0</td>\n",
       "      <td>0.0</td>\n",
       "    </tr>\n",
       "  </tbody>\n",
       "</table>\n",
       "<p>5 rows × 8336 columns</p>\n",
       "</div>"
      ],
      "text/plain": [
       "   text_length  punc    0    1    2    3    4    5    6    7  ...   8324  \\\n",
       "0          128   4.7  0.0  0.0  0.0  0.0  0.0  0.0  0.0  0.0  ...    0.0   \n",
       "1           49   4.1  0.0  0.0  0.0  0.0  0.0  0.0  0.0  0.0  ...    0.0   \n",
       "2           62   3.2  0.0  0.0  0.0  0.0  0.0  0.0  0.0  0.0  ...    0.0   \n",
       "3           28   7.1  0.0  0.0  0.0  0.0  0.0  0.0  0.0  0.0  ...    0.0   \n",
       "4          135   4.4  0.0  0.0  0.0  0.0  0.0  0.0  0.0  0.0  ...    0.0   \n",
       "\n",
       "   8325  8326  8327  8328  8329  8330  8331  8332  8333  \n",
       "0   0.0   0.0   0.0   0.0   0.0   0.0   0.0   0.0   0.0  \n",
       "1   0.0   0.0   0.0   0.0   0.0   0.0   0.0   0.0   0.0  \n",
       "2   0.0   0.0   0.0   0.0   0.0   0.0   0.0   0.0   0.0  \n",
       "3   0.0   0.0   0.0   0.0   0.0   0.0   0.0   0.0   0.0  \n",
       "4   0.0   0.0   0.0   0.0   0.0   0.0   0.0   0.0   0.0  \n",
       "\n",
       "[5 rows x 8336 columns]"
      ]
     },
     "execution_count": 13,
     "metadata": {},
     "output_type": "execute_result"
    }
   ],
   "source": [
    "# TF-IDF Vectorization\n",
    "\n",
    "from sklearn.feature_extraction.text import TfidfVectorizer\n",
    "\n",
    "vec = TfidfVectorizer(analyzer = clean_text)\n",
    "x = vec.fit_transform(data['body_text'])           # x returnes a sparse matrix \n",
    "\n",
    "X_features = pd.concat([data['text_length'],data['punc'],pd.DataFrame(x.toarray())],axis=1) # for ML, need a df without labels\n",
    "X_features.head()"
   ]
  },
  {
   "cell_type": "code",
   "execution_count": 14,
   "metadata": {
    "collapsed": false
   },
   "outputs": [
    {
     "data": {
      "text/html": [
       "<div>\n",
       "<table border=\"1\" class=\"dataframe\">\n",
       "  <thead>\n",
       "    <tr style=\"text-align: right;\">\n",
       "      <th></th>\n",
       "      <th></th>\n",
       "      <th>0</th>\n",
       "      <th>008704050406</th>\n",
       "      <th>0089mi</th>\n",
       "      <th>0121</th>\n",
       "      <th>01223585236</th>\n",
       "      <th>01223585334</th>\n",
       "      <th>0125698789</th>\n",
       "      <th>02</th>\n",
       "      <th>020603</th>\n",
       "      <th>...</th>\n",
       "      <th>zoe</th>\n",
       "      <th>zogtoriu</th>\n",
       "      <th>zoom</th>\n",
       "      <th>zouk</th>\n",
       "      <th>zyada</th>\n",
       "      <th>Ü</th>\n",
       "      <th>é</th>\n",
       "      <th>ü</th>\n",
       "      <th>üll</th>\n",
       "      <th>〨ud</th>\n",
       "    </tr>\n",
       "  </thead>\n",
       "  <tbody>\n",
       "    <tr>\n",
       "      <th>0</th>\n",
       "      <td>0.0</td>\n",
       "      <td>0.0</td>\n",
       "      <td>0.0</td>\n",
       "      <td>0.0</td>\n",
       "      <td>0.0</td>\n",
       "      <td>0.0</td>\n",
       "      <td>0.0</td>\n",
       "      <td>0.0</td>\n",
       "      <td>0.0</td>\n",
       "      <td>0.0</td>\n",
       "      <td>...</td>\n",
       "      <td>0.0</td>\n",
       "      <td>0.0</td>\n",
       "      <td>0.0</td>\n",
       "      <td>0.0</td>\n",
       "      <td>0.0</td>\n",
       "      <td>0.0</td>\n",
       "      <td>0.0</td>\n",
       "      <td>0.0</td>\n",
       "      <td>0.0</td>\n",
       "      <td>0.0</td>\n",
       "    </tr>\n",
       "    <tr>\n",
       "      <th>1</th>\n",
       "      <td>0.0</td>\n",
       "      <td>0.0</td>\n",
       "      <td>0.0</td>\n",
       "      <td>0.0</td>\n",
       "      <td>0.0</td>\n",
       "      <td>0.0</td>\n",
       "      <td>0.0</td>\n",
       "      <td>0.0</td>\n",
       "      <td>0.0</td>\n",
       "      <td>0.0</td>\n",
       "      <td>...</td>\n",
       "      <td>0.0</td>\n",
       "      <td>0.0</td>\n",
       "      <td>0.0</td>\n",
       "      <td>0.0</td>\n",
       "      <td>0.0</td>\n",
       "      <td>0.0</td>\n",
       "      <td>0.0</td>\n",
       "      <td>0.0</td>\n",
       "      <td>0.0</td>\n",
       "      <td>0.0</td>\n",
       "    </tr>\n",
       "    <tr>\n",
       "      <th>2</th>\n",
       "      <td>0.0</td>\n",
       "      <td>0.0</td>\n",
       "      <td>0.0</td>\n",
       "      <td>0.0</td>\n",
       "      <td>0.0</td>\n",
       "      <td>0.0</td>\n",
       "      <td>0.0</td>\n",
       "      <td>0.0</td>\n",
       "      <td>0.0</td>\n",
       "      <td>0.0</td>\n",
       "      <td>...</td>\n",
       "      <td>0.0</td>\n",
       "      <td>0.0</td>\n",
       "      <td>0.0</td>\n",
       "      <td>0.0</td>\n",
       "      <td>0.0</td>\n",
       "      <td>0.0</td>\n",
       "      <td>0.0</td>\n",
       "      <td>0.0</td>\n",
       "      <td>0.0</td>\n",
       "      <td>0.0</td>\n",
       "    </tr>\n",
       "    <tr>\n",
       "      <th>3</th>\n",
       "      <td>0.0</td>\n",
       "      <td>0.0</td>\n",
       "      <td>0.0</td>\n",
       "      <td>0.0</td>\n",
       "      <td>0.0</td>\n",
       "      <td>0.0</td>\n",
       "      <td>0.0</td>\n",
       "      <td>0.0</td>\n",
       "      <td>0.0</td>\n",
       "      <td>0.0</td>\n",
       "      <td>...</td>\n",
       "      <td>0.0</td>\n",
       "      <td>0.0</td>\n",
       "      <td>0.0</td>\n",
       "      <td>0.0</td>\n",
       "      <td>0.0</td>\n",
       "      <td>0.0</td>\n",
       "      <td>0.0</td>\n",
       "      <td>0.0</td>\n",
       "      <td>0.0</td>\n",
       "      <td>0.0</td>\n",
       "    </tr>\n",
       "    <tr>\n",
       "      <th>4</th>\n",
       "      <td>0.0</td>\n",
       "      <td>0.0</td>\n",
       "      <td>0.0</td>\n",
       "      <td>0.0</td>\n",
       "      <td>0.0</td>\n",
       "      <td>0.0</td>\n",
       "      <td>0.0</td>\n",
       "      <td>0.0</td>\n",
       "      <td>0.0</td>\n",
       "      <td>0.0</td>\n",
       "      <td>...</td>\n",
       "      <td>0.0</td>\n",
       "      <td>0.0</td>\n",
       "      <td>0.0</td>\n",
       "      <td>0.0</td>\n",
       "      <td>0.0</td>\n",
       "      <td>0.0</td>\n",
       "      <td>0.0</td>\n",
       "      <td>0.0</td>\n",
       "      <td>0.0</td>\n",
       "      <td>0.0</td>\n",
       "    </tr>\n",
       "  </tbody>\n",
       "</table>\n",
       "<p>5 rows × 8334 columns</p>\n",
       "</div>"
      ],
      "text/plain": [
       "          0  008704050406  0089mi  0121  01223585236  01223585334  0125698789  \\\n",
       "0  0.0  0.0           0.0     0.0   0.0          0.0          0.0         0.0   \n",
       "1  0.0  0.0           0.0     0.0   0.0          0.0          0.0         0.0   \n",
       "2  0.0  0.0           0.0     0.0   0.0          0.0          0.0         0.0   \n",
       "3  0.0  0.0           0.0     0.0   0.0          0.0          0.0         0.0   \n",
       "4  0.0  0.0           0.0     0.0   0.0          0.0          0.0         0.0   \n",
       "\n",
       "    02  020603 ...   zoe  zogtoriu  zoom  zouk  zyada    Ü    é    ü  üll  〨ud  \n",
       "0  0.0     0.0 ...   0.0       0.0   0.0   0.0    0.0  0.0  0.0  0.0  0.0  0.0  \n",
       "1  0.0     0.0 ...   0.0       0.0   0.0   0.0    0.0  0.0  0.0  0.0  0.0  0.0  \n",
       "2  0.0     0.0 ...   0.0       0.0   0.0   0.0    0.0  0.0  0.0  0.0  0.0  0.0  \n",
       "3  0.0     0.0 ...   0.0       0.0   0.0   0.0    0.0  0.0  0.0  0.0  0.0  0.0  \n",
       "4  0.0     0.0 ...   0.0       0.0   0.0   0.0    0.0  0.0  0.0  0.0  0.0  0.0  \n",
       "\n",
       "[5 rows x 8334 columns]"
      ]
     },
     "execution_count": 14,
     "metadata": {},
     "output_type": "execute_result"
    }
   ],
   "source": [
    "tfidf_df = pd.DataFrame(x.toarray()) # convert sparse to array(add 0's) and create a dataframe\n",
    "tfidf_df.columns = vec.get_feature_names()\n",
    "tfidf_df.head()"
   ]
  },
  {
   "cell_type": "markdown",
   "metadata": {},
   "source": [
    "# Machine Learning \n",
    "###  1) Random forest"
   ]
  },
  {
   "cell_type": "code",
   "execution_count": 15,
   "metadata": {
    "collapsed": true
   },
   "outputs": [],
   "source": [
    "# ---------------------\n",
    "#  Using k-Fold\n",
    "# ---------------------"
   ]
  },
  {
   "cell_type": "code",
   "execution_count": 16,
   "metadata": {
    "collapsed": false
   },
   "outputs": [
    {
     "data": {
      "text/plain": [
       "array([ 0.96768402,  0.97576302,  0.97304582,  0.96136568,  0.97124888])"
      ]
     },
     "execution_count": 16,
     "metadata": {},
     "output_type": "execute_result"
    }
   ],
   "source": [
    "\n",
    "from sklearn.ensemble import RandomForestClassifier\n",
    "from sklearn.model_selection import KFold, cross_val_score\n",
    "\n",
    "kf_clf = RandomForestClassifier(n_jobs=-1) # this process can run in ll'el, so use -1 to imporove speed\n",
    "k_fold = KFold(n_splits=5)\n",
    "cross_val_score(kf_clf,X_features,data['label'],cv=k_fold,scoring=\"accuracy\",n_jobs=-1)"
   ]
  },
  {
   "cell_type": "code",
   "execution_count": 17,
   "metadata": {
    "collapsed": true
   },
   "outputs": [],
   "source": [
    "# -------------------------\n",
    "# Using train_text_split\n",
    "# -------------------------"
   ]
  },
  {
   "cell_type": "code",
   "execution_count": 18,
   "metadata": {
    "collapsed": true
   },
   "outputs": [],
   "source": [
    "from sklearn.model_selection import train_test_split\n",
    "from sklearn.metrics import precision_recall_fscore_support as score"
   ]
  },
  {
   "cell_type": "code",
   "execution_count": 19,
   "metadata": {
    "collapsed": false
   },
   "outputs": [
    {
     "data": {
      "text/plain": [
       "[(0.052638332726557754, 'text_length'),\n",
       " (0.048641674515164775, 7574),\n",
       " (0.034379948598313323, 3348),\n",
       " (0.02298393561392453, 5006),\n",
       " (0.020152344651231752, 2243)]"
      ]
     },
     "execution_count": 19,
     "metadata": {},
     "output_type": "execute_result"
    }
   ],
   "source": [
    "X_train, X_test, y_train, y_test = train_test_split(X_features,data['label'],test_size=0.2)\n",
    "\n",
    "clf = RandomForestClassifier(n_estimators=50,max_depth=20,n_jobs=-1)\n",
    "rf_model = clf.fit(X_train, y_train)\n",
    "sorted(zip(rf_model.feature_importances_,X_train.columns),reverse=True)[0:5]"
   ]
  },
  {
   "cell_type": "code",
   "execution_count": 20,
   "metadata": {
    "collapsed": false
   },
   "outputs": [
    {
     "name": "stdout",
     "output_type": "stream",
     "text": [
      "Precision: 1.0 / Recall: 0.57 / Accuracy: 0.945\n"
     ]
    }
   ],
   "source": [
    "y_pred = rf_model.predict(X_test)\n",
    "precision, recall, fscore, support = score(y_test,y_pred,pos_label=\"spam\",average=\"binary\")\n",
    "print(\"Precision: {} / Recall: {} / Accuracy: {}\".format(round(precision,3),\n",
    "                                                        round(recall,3),\n",
    "                                                       round((y_pred==y_test).sum()/len(y_pred),3)))"
   ]
  },
  {
   "cell_type": "code",
   "execution_count": 21,
   "metadata": {
    "collapsed": true
   },
   "outputs": [],
   "source": [
    "# ---------------------\n",
    "# Using GridSearchCV\n",
    "# ---------------------"
   ]
  },
  {
   "cell_type": "code",
   "execution_count": 22,
   "metadata": {
    "collapsed": false
   },
   "outputs": [
    {
     "data": {
      "text/html": [
       "<div>\n",
       "<table border=\"1\" class=\"dataframe\">\n",
       "  <thead>\n",
       "    <tr style=\"text-align: right;\">\n",
       "      <th></th>\n",
       "      <th>mean_fit_time</th>\n",
       "      <th>mean_score_time</th>\n",
       "      <th>mean_test_score</th>\n",
       "      <th>mean_train_score</th>\n",
       "      <th>param_max_depth</th>\n",
       "      <th>param_n_estimators</th>\n",
       "      <th>params</th>\n",
       "      <th>rank_test_score</th>\n",
       "      <th>split0_test_score</th>\n",
       "      <th>split0_train_score</th>\n",
       "      <th>...</th>\n",
       "      <th>split2_test_score</th>\n",
       "      <th>split2_train_score</th>\n",
       "      <th>split3_test_score</th>\n",
       "      <th>split3_train_score</th>\n",
       "      <th>split4_test_score</th>\n",
       "      <th>split4_train_score</th>\n",
       "      <th>std_fit_time</th>\n",
       "      <th>std_score_time</th>\n",
       "      <th>std_test_score</th>\n",
       "      <th>std_train_score</th>\n",
       "    </tr>\n",
       "  </thead>\n",
       "  <tbody>\n",
       "    <tr>\n",
       "      <th>6</th>\n",
       "      <td>2.527241</td>\n",
       "      <td>0.124268</td>\n",
       "      <td>0.974313</td>\n",
       "      <td>0.998114</td>\n",
       "      <td>90</td>\n",
       "      <td>10</td>\n",
       "      <td>{'max_depth': 90, 'n_estimators': 10}</td>\n",
       "      <td>1</td>\n",
       "      <td>0.977578</td>\n",
       "      <td>0.998652</td>\n",
       "      <td>...</td>\n",
       "      <td>0.974843</td>\n",
       "      <td>0.998204</td>\n",
       "      <td>0.972147</td>\n",
       "      <td>0.997081</td>\n",
       "      <td>0.973944</td>\n",
       "      <td>0.998204</td>\n",
       "      <td>0.090319</td>\n",
       "      <td>0.020201</td>\n",
       "      <td>0.001865</td>\n",
       "      <td>0.000542</td>\n",
       "    </tr>\n",
       "    <tr>\n",
       "      <th>11</th>\n",
       "      <td>42.894699</td>\n",
       "      <td>0.334100</td>\n",
       "      <td>0.974313</td>\n",
       "      <td>1.000000</td>\n",
       "      <td>None</td>\n",
       "      <td>300</td>\n",
       "      <td>{'max_depth': None, 'n_estimators': 300}</td>\n",
       "      <td>1</td>\n",
       "      <td>0.977578</td>\n",
       "      <td>1.000000</td>\n",
       "      <td>...</td>\n",
       "      <td>0.973046</td>\n",
       "      <td>1.000000</td>\n",
       "      <td>0.967655</td>\n",
       "      <td>1.000000</td>\n",
       "      <td>0.975741</td>\n",
       "      <td>1.000000</td>\n",
       "      <td>4.426194</td>\n",
       "      <td>0.044310</td>\n",
       "      <td>0.003716</td>\n",
       "      <td>0.000000</td>\n",
       "    </tr>\n",
       "    <tr>\n",
       "      <th>10</th>\n",
       "      <td>23.422164</td>\n",
       "      <td>0.255517</td>\n",
       "      <td>0.974133</td>\n",
       "      <td>1.000000</td>\n",
       "      <td>None</td>\n",
       "      <td>150</td>\n",
       "      <td>{'max_depth': None, 'n_estimators': 150}</td>\n",
       "      <td>3</td>\n",
       "      <td>0.973991</td>\n",
       "      <td>1.000000</td>\n",
       "      <td>...</td>\n",
       "      <td>0.973944</td>\n",
       "      <td>1.000000</td>\n",
       "      <td>0.970350</td>\n",
       "      <td>1.000000</td>\n",
       "      <td>0.974843</td>\n",
       "      <td>1.000000</td>\n",
       "      <td>0.177652</td>\n",
       "      <td>0.029011</td>\n",
       "      <td>0.002300</td>\n",
       "      <td>0.000000</td>\n",
       "    </tr>\n",
       "    <tr>\n",
       "      <th>8</th>\n",
       "      <td>43.681387</td>\n",
       "      <td>0.355251</td>\n",
       "      <td>0.973954</td>\n",
       "      <td>0.999282</td>\n",
       "      <td>90</td>\n",
       "      <td>300</td>\n",
       "      <td>{'max_depth': 90, 'n_estimators': 300}</td>\n",
       "      <td>4</td>\n",
       "      <td>0.976682</td>\n",
       "      <td>0.999551</td>\n",
       "      <td>...</td>\n",
       "      <td>0.974843</td>\n",
       "      <td>0.998877</td>\n",
       "      <td>0.967655</td>\n",
       "      <td>0.999775</td>\n",
       "      <td>0.972147</td>\n",
       "      <td>0.999102</td>\n",
       "      <td>0.886661</td>\n",
       "      <td>0.009428</td>\n",
       "      <td>0.003775</td>\n",
       "      <td>0.000330</td>\n",
       "    </tr>\n",
       "    <tr>\n",
       "      <th>7</th>\n",
       "      <td>22.180884</td>\n",
       "      <td>0.265890</td>\n",
       "      <td>0.973774</td>\n",
       "      <td>0.999192</td>\n",
       "      <td>90</td>\n",
       "      <td>150</td>\n",
       "      <td>{'max_depth': 90, 'n_estimators': 150}</td>\n",
       "      <td>5</td>\n",
       "      <td>0.976682</td>\n",
       "      <td>0.999326</td>\n",
       "      <td>...</td>\n",
       "      <td>0.973944</td>\n",
       "      <td>0.998653</td>\n",
       "      <td>0.966757</td>\n",
       "      <td>0.999775</td>\n",
       "      <td>0.974843</td>\n",
       "      <td>0.999102</td>\n",
       "      <td>0.256376</td>\n",
       "      <td>0.031123</td>\n",
       "      <td>0.003663</td>\n",
       "      <td>0.000365</td>\n",
       "    </tr>\n",
       "  </tbody>\n",
       "</table>\n",
       "<p>5 rows × 22 columns</p>\n",
       "</div>"
      ],
      "text/plain": [
       "    mean_fit_time  mean_score_time  mean_test_score  mean_train_score  \\\n",
       "6        2.527241         0.124268         0.974313          0.998114   \n",
       "11      42.894699         0.334100         0.974313          1.000000   \n",
       "10      23.422164         0.255517         0.974133          1.000000   \n",
       "8       43.681387         0.355251         0.973954          0.999282   \n",
       "7       22.180884         0.265890         0.973774          0.999192   \n",
       "\n",
       "   param_max_depth param_n_estimators  \\\n",
       "6               90                 10   \n",
       "11            None                300   \n",
       "10            None                150   \n",
       "8               90                300   \n",
       "7               90                150   \n",
       "\n",
       "                                      params  rank_test_score  \\\n",
       "6      {'max_depth': 90, 'n_estimators': 10}                1   \n",
       "11  {'max_depth': None, 'n_estimators': 300}                1   \n",
       "10  {'max_depth': None, 'n_estimators': 150}                3   \n",
       "8     {'max_depth': 90, 'n_estimators': 300}                4   \n",
       "7     {'max_depth': 90, 'n_estimators': 150}                5   \n",
       "\n",
       "    split0_test_score  split0_train_score       ...         split2_test_score  \\\n",
       "6            0.977578            0.998652       ...                  0.974843   \n",
       "11           0.977578            1.000000       ...                  0.973046   \n",
       "10           0.973991            1.000000       ...                  0.973944   \n",
       "8            0.976682            0.999551       ...                  0.974843   \n",
       "7            0.976682            0.999326       ...                  0.973944   \n",
       "\n",
       "    split2_train_score  split3_test_score  split3_train_score  \\\n",
       "6             0.998204           0.972147            0.997081   \n",
       "11            1.000000           0.967655            1.000000   \n",
       "10            1.000000           0.970350            1.000000   \n",
       "8             0.998877           0.967655            0.999775   \n",
       "7             0.998653           0.966757            0.999775   \n",
       "\n",
       "    split4_test_score  split4_train_score  std_fit_time  std_score_time  \\\n",
       "6            0.973944            0.998204      0.090319        0.020201   \n",
       "11           0.975741            1.000000      4.426194        0.044310   \n",
       "10           0.974843            1.000000      0.177652        0.029011   \n",
       "8            0.972147            0.999102      0.886661        0.009428   \n",
       "7            0.974843            0.999102      0.256376        0.031123   \n",
       "\n",
       "    std_test_score  std_train_score  \n",
       "6         0.001865         0.000542  \n",
       "11        0.003716         0.000000  \n",
       "10        0.002300         0.000000  \n",
       "8         0.003775         0.000330  \n",
       "7         0.003663         0.000365  \n",
       "\n",
       "[5 rows x 22 columns]"
      ]
     },
     "execution_count": 22,
     "metadata": {},
     "output_type": "execute_result"
    }
   ],
   "source": [
    "# Gridsearchcv to get the best parameters\n",
    "\n",
    "from sklearn.model_selection import GridSearchCV\n",
    "\n",
    "clf = RandomForestClassifier()\n",
    "param = {'n_estimators':[10,150,300],\n",
    "        'max_depth':[30,60,90,None]}\n",
    "\n",
    "gs = GridSearchCV(clf,param, cv=5, n_jobs=-1)\n",
    "gs_fit = gs.fit(X_features,data['label'])\n",
    "pd.DataFrame(gs_fit.cv_results_).sort_values('mean_test_score', ascending=False) [0:5]"
   ]
  },
  {
   "cell_type": "markdown",
   "metadata": {},
   "source": [
    "### 2) Gradient Boosing"
   ]
  },
  {
   "cell_type": "code",
   "execution_count": 25,
   "metadata": {
    "collapsed": true
   },
   "outputs": [],
   "source": [
    "from sklearn.ensemble import GradientBoostingClassifier"
   ]
  },
  {
   "cell_type": "code",
   "execution_count": 24,
   "metadata": {
    "collapsed": false
   },
   "outputs": [
    {
     "data": {
      "text/html": [
       "<div>\n",
       "<table border=\"1\" class=\"dataframe\">\n",
       "  <thead>\n",
       "    <tr style=\"text-align: right;\">\n",
       "      <th></th>\n",
       "      <th>mean_fit_time</th>\n",
       "      <th>mean_score_time</th>\n",
       "      <th>mean_test_score</th>\n",
       "      <th>mean_train_score</th>\n",
       "      <th>param_max_depth</th>\n",
       "      <th>param_n_estimators</th>\n",
       "      <th>params</th>\n",
       "      <th>rank_test_score</th>\n",
       "      <th>split0_test_score</th>\n",
       "      <th>split0_train_score</th>\n",
       "      <th>...</th>\n",
       "      <th>split2_test_score</th>\n",
       "      <th>split2_train_score</th>\n",
       "      <th>split3_test_score</th>\n",
       "      <th>split3_train_score</th>\n",
       "      <th>split4_test_score</th>\n",
       "      <th>split4_train_score</th>\n",
       "      <th>std_fit_time</th>\n",
       "      <th>std_score_time</th>\n",
       "      <th>std_test_score</th>\n",
       "      <th>std_train_score</th>\n",
       "    </tr>\n",
       "  </thead>\n",
       "  <tbody>\n",
       "    <tr>\n",
       "      <th>1</th>\n",
       "      <td>249.256041</td>\n",
       "      <td>0.209839</td>\n",
       "      <td>0.971978</td>\n",
       "      <td>1.0</td>\n",
       "      <td>7</td>\n",
       "      <td>150</td>\n",
       "      <td>{'max_depth': 7, 'n_estimators': 150}</td>\n",
       "      <td>1</td>\n",
       "      <td>0.969507</td>\n",
       "      <td>1.0</td>\n",
       "      <td>...</td>\n",
       "      <td>0.970350</td>\n",
       "      <td>1.0</td>\n",
       "      <td>0.969452</td>\n",
       "      <td>1.0</td>\n",
       "      <td>0.969452</td>\n",
       "      <td>1.0</td>\n",
       "      <td>2.091407</td>\n",
       "      <td>0.008359</td>\n",
       "      <td>0.004589</td>\n",
       "      <td>0.0</td>\n",
       "    </tr>\n",
       "    <tr>\n",
       "      <th>3</th>\n",
       "      <td>396.853857</td>\n",
       "      <td>0.239559</td>\n",
       "      <td>0.971439</td>\n",
       "      <td>1.0</td>\n",
       "      <td>11</td>\n",
       "      <td>150</td>\n",
       "      <td>{'max_depth': 11, 'n_estimators': 150}</td>\n",
       "      <td>2</td>\n",
       "      <td>0.968610</td>\n",
       "      <td>1.0</td>\n",
       "      <td>...</td>\n",
       "      <td>0.967655</td>\n",
       "      <td>1.0</td>\n",
       "      <td>0.972147</td>\n",
       "      <td>1.0</td>\n",
       "      <td>0.969452</td>\n",
       "      <td>1.0</td>\n",
       "      <td>6.381485</td>\n",
       "      <td>0.012318</td>\n",
       "      <td>0.004221</td>\n",
       "      <td>0.0</td>\n",
       "    </tr>\n",
       "    <tr>\n",
       "      <th>2</th>\n",
       "      <td>274.103995</td>\n",
       "      <td>0.215422</td>\n",
       "      <td>0.971080</td>\n",
       "      <td>1.0</td>\n",
       "      <td>11</td>\n",
       "      <td>100</td>\n",
       "      <td>{'max_depth': 11, 'n_estimators': 100}</td>\n",
       "      <td>3</td>\n",
       "      <td>0.966816</td>\n",
       "      <td>1.0</td>\n",
       "      <td>...</td>\n",
       "      <td>0.969452</td>\n",
       "      <td>1.0</td>\n",
       "      <td>0.972147</td>\n",
       "      <td>1.0</td>\n",
       "      <td>0.969452</td>\n",
       "      <td>1.0</td>\n",
       "      <td>4.131412</td>\n",
       "      <td>0.030696</td>\n",
       "      <td>0.003642</td>\n",
       "      <td>0.0</td>\n",
       "    </tr>\n",
       "    <tr>\n",
       "      <th>4</th>\n",
       "      <td>368.598297</td>\n",
       "      <td>0.213828</td>\n",
       "      <td>0.971080</td>\n",
       "      <td>1.0</td>\n",
       "      <td>15</td>\n",
       "      <td>100</td>\n",
       "      <td>{'max_depth': 15, 'n_estimators': 100}</td>\n",
       "      <td>3</td>\n",
       "      <td>0.969507</td>\n",
       "      <td>1.0</td>\n",
       "      <td>...</td>\n",
       "      <td>0.969452</td>\n",
       "      <td>1.0</td>\n",
       "      <td>0.971249</td>\n",
       "      <td>1.0</td>\n",
       "      <td>0.967655</td>\n",
       "      <td>1.0</td>\n",
       "      <td>4.523294</td>\n",
       "      <td>0.005870</td>\n",
       "      <td>0.003423</td>\n",
       "      <td>0.0</td>\n",
       "    </tr>\n",
       "    <tr>\n",
       "      <th>5</th>\n",
       "      <td>479.738087</td>\n",
       "      <td>0.212831</td>\n",
       "      <td>0.971080</td>\n",
       "      <td>1.0</td>\n",
       "      <td>15</td>\n",
       "      <td>150</td>\n",
       "      <td>{'max_depth': 15, 'n_estimators': 150}</td>\n",
       "      <td>3</td>\n",
       "      <td>0.967713</td>\n",
       "      <td>1.0</td>\n",
       "      <td>...</td>\n",
       "      <td>0.969452</td>\n",
       "      <td>1.0</td>\n",
       "      <td>0.973046</td>\n",
       "      <td>1.0</td>\n",
       "      <td>0.969452</td>\n",
       "      <td>1.0</td>\n",
       "      <td>62.622968</td>\n",
       "      <td>0.023266</td>\n",
       "      <td>0.002906</td>\n",
       "      <td>0.0</td>\n",
       "    </tr>\n",
       "  </tbody>\n",
       "</table>\n",
       "<p>5 rows × 22 columns</p>\n",
       "</div>"
      ],
      "text/plain": [
       "   mean_fit_time  mean_score_time  mean_test_score  mean_train_score  \\\n",
       "1     249.256041         0.209839         0.971978               1.0   \n",
       "3     396.853857         0.239559         0.971439               1.0   \n",
       "2     274.103995         0.215422         0.971080               1.0   \n",
       "4     368.598297         0.213828         0.971080               1.0   \n",
       "5     479.738087         0.212831         0.971080               1.0   \n",
       "\n",
       "  param_max_depth param_n_estimators                                  params  \\\n",
       "1               7                150   {'max_depth': 7, 'n_estimators': 150}   \n",
       "3              11                150  {'max_depth': 11, 'n_estimators': 150}   \n",
       "2              11                100  {'max_depth': 11, 'n_estimators': 100}   \n",
       "4              15                100  {'max_depth': 15, 'n_estimators': 100}   \n",
       "5              15                150  {'max_depth': 15, 'n_estimators': 150}   \n",
       "\n",
       "   rank_test_score  split0_test_score  split0_train_score       ...         \\\n",
       "1                1           0.969507                 1.0       ...          \n",
       "3                2           0.968610                 1.0       ...          \n",
       "2                3           0.966816                 1.0       ...          \n",
       "4                3           0.969507                 1.0       ...          \n",
       "5                3           0.967713                 1.0       ...          \n",
       "\n",
       "   split2_test_score  split2_train_score  split3_test_score  \\\n",
       "1           0.970350                 1.0           0.969452   \n",
       "3           0.967655                 1.0           0.972147   \n",
       "2           0.969452                 1.0           0.972147   \n",
       "4           0.969452                 1.0           0.971249   \n",
       "5           0.969452                 1.0           0.973046   \n",
       "\n",
       "   split3_train_score  split4_test_score  split4_train_score  std_fit_time  \\\n",
       "1                 1.0           0.969452                 1.0      2.091407   \n",
       "3                 1.0           0.969452                 1.0      6.381485   \n",
       "2                 1.0           0.969452                 1.0      4.131412   \n",
       "4                 1.0           0.967655                 1.0      4.523294   \n",
       "5                 1.0           0.969452                 1.0     62.622968   \n",
       "\n",
       "   std_score_time  std_test_score  std_train_score  \n",
       "1        0.008359        0.004589              0.0  \n",
       "3        0.012318        0.004221              0.0  \n",
       "2        0.030696        0.003642              0.0  \n",
       "4        0.005870        0.003423              0.0  \n",
       "5        0.023266        0.002906              0.0  \n",
       "\n",
       "[5 rows x 22 columns]"
      ]
     },
     "execution_count": 24,
     "metadata": {},
     "output_type": "execute_result"
    }
   ],
   "source": [
    "gb = GradientBoostingClassifier()\n",
    "params = {'n_estimators': [100,150],\n",
    "          'max_depth': [7,11,15]}\n",
    "\n",
    "gs = GridSearchCV(gb,params,cv=5,n_jobs=-1) # here n_jobs runs on different subsets and params settings in ll'el unlike the model in Randomforest\n",
    "cv_fit = gs.fit(X_features,data['label'])\n",
    "pd.DataFrame(cv_fit.cv_results_).sort_values('mean_test_score',ascending=False)[0:5]"
   ]
  },
  {
   "cell_type": "markdown",
   "metadata": {},
   "source": [
    "#### In this notebook we have created 2 features, explored them , found the best hyper-parameters for random forest and gradient boosting algorithms"
   ]
  },
  {
   "cell_type": "code",
   "execution_count": null,
   "metadata": {
    "collapsed": true
   },
   "outputs": [],
   "source": []
  }
 ],
 "metadata": {
  "kernelspec": {
   "display_name": "Python 3",
   "language": "python",
   "name": "python3"
  },
  "language_info": {
   "codemirror_mode": {
    "name": "ipython",
    "version": 3
   },
   "file_extension": ".py",
   "mimetype": "text/x-python",
   "name": "python",
   "nbconvert_exporter": "python",
   "pygments_lexer": "ipython3",
   "version": "3.6.0"
  }
 },
 "nbformat": 4,
 "nbformat_minor": 2
}
